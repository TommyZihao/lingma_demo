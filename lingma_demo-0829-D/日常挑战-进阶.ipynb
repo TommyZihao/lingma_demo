{
 "cells": [
  {
   "cell_type": "markdown",
   "metadata": {},
   "source": [
    "# 通义灵码玩转TonyPi人形机器人（进阶挑战）\n",
    "\n",
    "同济子豪兄 2024-8-29"
   ]
  },
  {
   "cell_type": "markdown",
   "metadata": {},
   "source": [
    "## 介绍\n",
    "\n",
    "你将和AI编程搭子“通义灵码”一起写代码，飞速看懂“祖传代码”，挑战九大高能关卡。\n",
    "\n",
    "让你面前的这台人形机器人，理解复杂指令、完成高难动作、玩唱跳RAP、踢花样足球、搬繁重货物。\n",
    "\n",
    "按`Shift`+`回车`，依次运行每个代码块"
   ]
  },
  {
   "cell_type": "markdown",
   "metadata": {},
   "source": [
    "## 挑战六：唱跳RAP\n",
    "\n",
    "难度：★★★\n",
    "\n",
    "> 在通义灵码的对话框中输入：`@workspace 找到唱歌跳舞的代码`\n",
    "\n",
    "在VNC Viewer远程桌面命令行中执行这个代码，按`Ctrl`+`C`退出程序\n",
    "\n",
    "示例：\n",
    "\n",
    "```shell\n",
    "cd ~/TonyPi/Extend/sensor_course/sensor_development\n",
    "```\n",
    "\n",
    "运行默认代码：《小苹果》\n",
    "\n",
    "```shell\n",
    "python little_apple.py\n",
    "```"
   ]
  },
  {
   "cell_type": "markdown",
   "metadata": {},
   "source": [
    "> 你的任务：换一首歌，换一支舞"
   ]
  },
  {
   "cell_type": "markdown",
   "metadata": {},
   "source": [
    "## 挑战七：田径运动（巡线+跨栏+上台阶+下台阶）\n",
    "\n",
    "难度：★★★\n",
    "\n",
    "> 在通义灵码的对话框中输入：`@workspace 找到田径运动表演的代码`\n",
    "\n",
    "在VNC Viewer远程桌面命令行中执行这个代码，按`Ctrl`+`C`退出程序"
   ]
  },
  {
   "cell_type": "markdown",
   "metadata": {},
   "source": [
    "## 挑战八：搬运海绵块\n",
    "\n",
    "难度：★★★\n",
    "\n",
    "> 在通义灵码的对话框中输入：`@workspace 找到搬运海绵块的代码`\n",
    "\n",
    "在VNC Viewer远程桌面命令行中执行这个代码，按`Ctrl`+`C`退出程序"
   ]
  },
  {
   "cell_type": "markdown",
   "metadata": {},
   "source": [
    "## 挑战九：踢足球\n",
    "\n",
    "难度：★★★\n",
    "\n",
    "- 第一步：运行默认踢球代码\n",
    "\n",
    "> 在通义灵码的对话框中输入：`@workspace 找到踢球的代码`\n",
    "\n",
    "在VNC Viewer远程桌面命令行中执行这个代码，按`Ctrl`+`C`退出程序"
   ]
  },
  {
   "cell_type": "markdown",
   "metadata": {},
   "source": [
    "- 第二步：踢蓝色球\n",
    "\n",
    "> 在通义灵码的对话框中输入：`@workspace 如何修改踢不同颜色的球`\n",
    "\n",
    "修改并运行`KickBall_codebase_challenge.py`文件，让机器人踢蓝色球\n",
    "\n",
    "在VNC Viewer远程桌面命令行中执行这个代码，按`Ctrl`+`C`退出程序\n"
   ]
  },
  {
   "cell_type": "code",
   "execution_count": null,
   "metadata": {},
   "outputs": [],
   "source": []
  }
 ],
 "metadata": {
  "kernelspec": {
   "display_name": "Python 3",
   "language": "python",
   "name": "python3"
  },
  "language_info": {
   "codemirror_mode": {
    "name": "ipython",
    "version": 3
   },
   "file_extension": ".py",
   "mimetype": "text/x-python",
   "name": "python",
   "nbconvert_exporter": "python",
   "pygments_lexer": "ipython3",
   "version": "3.11.2"
  }
 },
 "nbformat": 4,
 "nbformat_minor": 2
}
