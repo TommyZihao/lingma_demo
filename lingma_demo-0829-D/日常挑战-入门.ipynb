{
 "cells": [
  {
   "cell_type": "markdown",
   "metadata": {},
   "source": [
    "# 通义灵码玩转TonyPi人形机器人（入门挑战）\n",
    "\n",
    "同济子豪兄 2024-8-29"
   ]
  },
  {
   "cell_type": "markdown",
   "metadata": {},
   "source": [
    "## 介绍\n",
    "\n",
    "你将和AI编程搭子“通义灵码”一起写代码，飞速看懂“祖传代码”，挑战九大高能关卡。\n",
    "\n",
    "让你面前的这台人形机器人，理解复杂指令、完成高难动作、玩唱跳RAP、踢花样足球、搬繁重货物。\n",
    "\n",
    "按`Shift`+`回车`，依次运行每个代码块"
   ]
  },
  {
   "cell_type": "markdown",
   "metadata": {},
   "source": [
    "## 小试牛刀：让机器人动起来"
   ]
  },
  {
   "cell_type": "code",
   "execution_count": 1,
   "metadata": {},
   "outputs": [],
   "source": [
    "# 导入工具包\n",
    "import hiwonder.ActionGroupControl as AGC"
   ]
  },
  {
   "cell_type": "code",
   "execution_count": 3,
   "metadata": {},
   "outputs": [],
   "source": [
    "# 动作：鞠躬\n",
    "AGC.runActionGroup('bow')"
   ]
  },
  {
   "cell_type": "code",
   "execution_count": 3,
   "metadata": {},
   "outputs": [],
   "source": [
    "# 动作：扭腰\n",
    "AGC.runActionGroup('twist')"
   ]
  },
  {
   "cell_type": "code",
   "execution_count": 4,
   "metadata": {},
   "outputs": [],
   "source": [
    "# 动作：挥手\n",
    "AGC.runActionGroup('wave')"
   ]
  },
  {
   "cell_type": "code",
   "execution_count": 5,
   "metadata": {},
   "outputs": [],
   "source": [
    "# 动作：下蹲\n",
    "AGC.runActionGroup('squat')"
   ]
  },
  {
   "cell_type": "code",
   "execution_count": 6,
   "metadata": {},
   "outputs": [],
   "source": [
    "# 动作：站立\n",
    "AGC.runActionGroup('stand')"
   ]
  },
  {
   "cell_type": "markdown",
   "metadata": {},
   "source": [
    "## 挑战一：查看机器人所有的内置动作\n",
    "\n",
    "难度：★\n",
    "\n",
    "> 提示：在通义灵码的对话框中输入:`@workspace 在哪里查看AGC所有支持的动作`"
   ]
  },
  {
   "cell_type": "markdown",
   "metadata": {},
   "source": [
    "## 挑战二：完成任一以下动作\n",
    "\n",
    "难度：★\n",
    "\n",
    "仰卧起坐、庆祝、原地踏步、左勾拳、右勾拳、永春拳、左侧踢、右侧踢\n",
    "\n",
    "> 提示：只需仿照上面的代码，替换函数参数中的动作名称即可\n",
    "\n",
    "> 或者在通义灵码的对话框中输入：`@workspace 完成仰卧起坐动作`"
   ]
  },
  {
   "cell_type": "code",
   "execution_count": 7,
   "metadata": {},
   "outputs": [],
   "source": [
    "# 动作：仰卧起坐\n",
    "AGC.runActionGroup('sit_ups')"
   ]
  },
  {
   "cell_type": "code",
   "execution_count": 8,
   "metadata": {},
   "outputs": [],
   "source": [
    "# 动作：踢右脚\n",
    "AGC.runActionGroup('right_shot_fast')"
   ]
  },
  {
   "cell_type": "markdown",
   "metadata": {},
   "source": [
    "## 挑战三：完成一整套“丝滑小连招”\n",
    "\n",
    "难度：★★\n",
    "\n",
    "> 在通义灵码的对话框中输入：`@workspace 用AGC完成以下动作：挥手，鞠躬，踢左脚，踢右脚`"
   ]
  },
  {
   "cell_type": "markdown",
   "metadata": {},
   "source": [
    "## 挑战四：跌倒时，自己站起来\n",
    "\n",
    "难度：★★\n",
    "\n",
    "> 需提前让工作人员把机器人放倒"
   ]
  },
  {
   "cell_type": "code",
   "execution_count": 35,
   "metadata": {},
   "outputs": [],
   "source": [
    "# 动作：前倾跌倒站起\n",
    "AGC.runActionGroup('stand_up_front')"
   ]
  },
  {
   "cell_type": "code",
   "execution_count": null,
   "metadata": {},
   "outputs": [],
   "source": [
    "# 动作：后倾跌倒站起\n",
    "AGC.runActionGroup('stand_up_back')"
   ]
  },
  {
   "cell_type": "markdown",
   "metadata": {},
   "source": [
    "## 挑战五：机器人蜂鸣器发出声音\n",
    "\n",
    "难度：★★"
   ]
  },
  {
   "cell_type": "code",
   "execution_count": 2,
   "metadata": {},
   "outputs": [],
   "source": [
    "# 导入工具包\n",
    "import hiwonder.ros_robot_controller_sdk as rrc\n",
    "board = rrc.Board()"
   ]
  },
  {
   "cell_type": "code",
   "execution_count": 3,
   "metadata": {},
   "outputs": [],
   "source": [
    "# 默认代码\n",
    "board.set_buzzer(1900, 0.1, 0.9, 1)"
   ]
  },
  {
   "cell_type": "markdown",
   "metadata": {},
   "source": [
    "上面的代码是什么含义呢？\n",
    "\n",
    "框选代码-通义灵码-解释代码\n",
    "\n",
    "即可看到`board.set_buzzer`函数各项参数的含义啦"
   ]
  },
  {
   "cell_type": "code",
   "execution_count": 8,
   "metadata": {},
   "outputs": [],
   "source": [
    "# 你来写：让蜂鸣器以1600赫兹的频率，响0.5秒，静音1秒，重复3次\n",
    "board.set_buzzer(1600, 0.5, 1, 3)"
   ]
  },
  {
   "cell_type": "markdown",
   "metadata": {},
   "source": [
    "## 挑战六：获取1号舵机温度、电压、角度等参数\n",
    "\n",
    "难度：★★\n",
    "\n",
    "> 在通义灵码的对话框中输入：`@workspace 如何获取总线舵机的温度`"
   ]
  },
  {
   "cell_type": "code",
   "execution_count": 3,
   "metadata": {},
   "outputs": [],
   "source": [
    "import hiwonder.ros_robot_controller_sdk as rrc\n",
    "board = rrc.Board()\n",
    "board.enable_reception()"
   ]
  },
  {
   "cell_type": "code",
   "execution_count": 4,
   "metadata": {},
   "outputs": [],
   "source": [
    "temp = board.bus_servo_read_temp(1)"
   ]
  },
  {
   "cell_type": "code",
   "execution_count": 5,
   "metadata": {},
   "outputs": [
    {
     "data": {
      "text/plain": [
       "[62]"
      ]
     },
     "execution_count": 5,
     "metadata": {},
     "output_type": "execute_result"
    }
   ],
   "source": [
    "temp"
   ]
  },
  {
   "cell_type": "markdown",
   "metadata": {},
   "source": [
    "## 通义灵码其它神仙玩法：瞬间读懂祖传代码\n",
    "\n",
    "> 在通义灵码的对话框中输入:`@workspace 总结整个代码库的架构`\n",
    "\n",
    "> 在通义灵码的对话框中输入:`@workspace Functions目录的代码实现哪些功能`"
   ]
  },
  {
   "cell_type": "code",
   "execution_count": null,
   "metadata": {},
   "outputs": [],
   "source": []
  }
 ],
 "metadata": {
  "kernelspec": {
   "display_name": "Python 3",
   "language": "python",
   "name": "python3"
  },
  "language_info": {
   "codemirror_mode": {
    "name": "ipython",
    "version": 3
   },
   "file_extension": ".py",
   "mimetype": "text/x-python",
   "name": "python",
   "nbconvert_exporter": "python",
   "pygments_lexer": "ipython3",
   "version": "3.11.2"
  }
 },
 "nbformat": 4,
 "nbformat_minor": 2
}
