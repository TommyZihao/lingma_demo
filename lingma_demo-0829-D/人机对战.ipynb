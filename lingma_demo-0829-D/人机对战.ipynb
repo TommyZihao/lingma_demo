{
 "cells": [
  {
   "cell_type": "markdown",
   "metadata": {},
   "source": [
    "# 通义灵码 VS 人类程序员\n",
    "\n",
    "同济子豪兄 2024-8-29"
   ]
  },
  {
   "cell_type": "markdown",
   "metadata": {},
   "source": [
    "## 挑战一：高难度“丝滑小连招”\n",
    "\n",
    "难度：★★★\n",
    "\n",
    "> 在通义灵码的帮助下，新建并编写python脚本，最后在VNC Viewer命令行中运行\n",
    "\n",
    "- 踢左脚\n",
    "\n",
    "- 踢右脚\n",
    "\n",
    "- 仰卧起坐\n",
    "\n",
    "- 挥手"
   ]
  },
  {
   "cell_type": "markdown",
   "metadata": {},
   "source": [
    "## 挑战二：踢指定颜色的足球\n",
    "\n",
    "难度：★★★★\n",
    "\n",
    "> 在通义灵码的帮助下，修改并运行`KickBall_codebase_challenge.py`文件，最后在VNC Viewer命令行中运行\n",
    "\n",
    "- 红色\n",
    "\n",
    "- 蓝色\n",
    "\n",
    "- 绿色\n",
    "\n",
    "- 黑色\n",
    "\n",
    "- 黄金的颜色\n",
    "\n",
    "- 紫罗兰颜色"
   ]
  },
  {
   "cell_type": "markdown",
   "metadata": {},
   "source": []
  }
 ],
 "metadata": {
  "language_info": {
   "name": "python"
  }
 },
 "nbformat": 4,
 "nbformat_minor": 2
}
