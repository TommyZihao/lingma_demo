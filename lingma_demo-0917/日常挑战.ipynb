{
 "cells": [
  {
   "cell_type": "markdown",
   "metadata": {},
   "source": [
    "# 通义灵码玩转TonyPi人形机器人（入门挑战）\n",
    "\n",
    "同济子豪兄 2024-9-4"
   ]
  },
  {
   "cell_type": "markdown",
   "metadata": {},
   "source": [
    "## 介绍\n",
    "\n",
    "你将和AI编程搭子“通义灵码”一起写代码，飞速看懂“祖传代码”，挑战九大高能关卡。\n",
    "\n",
    "让你面前的这台人形机器人，理解复杂指令、完成高难动作、玩唱跳RAP、踢花样足球、搬繁重货物。\n",
    "\n",
    "按`Shift`+`回车`，依次运行每个代码块"
   ]
  },
  {
   "cell_type": "markdown",
   "metadata": {},
   "source": [
    "## 小试牛刀：让机器人动起来"
   ]
  },
  {
   "cell_type": "code",
   "execution_count": 2,
   "metadata": {},
   "outputs": [],
   "source": [
    "# 导入工具包\n",
    "import hiwonder.ActionGroupControl as AGC"
   ]
  },
  {
   "cell_type": "code",
   "execution_count": 3,
   "metadata": {},
   "outputs": [],
   "source": [
    "# 动作：鞠躬\n",
    "AGC.runActionGroup('bow')"
   ]
  },
  {
   "cell_type": "code",
   "execution_count": 3,
   "metadata": {},
   "outputs": [],
   "source": [
    "# 动作：扭腰\n",
    "AGC.runActionGroup('twist')"
   ]
  },
  {
   "cell_type": "code",
   "execution_count": 4,
   "metadata": {},
   "outputs": [],
   "source": [
    "# 动作：挥手\n",
    "AGC.runActionGroup('wave')"
   ]
  },
  {
   "cell_type": "code",
   "execution_count": 5,
   "metadata": {},
   "outputs": [],
   "source": [
    "# 动作：下蹲\n",
    "AGC.runActionGroup('squat')"
   ]
  },
  {
   "cell_type": "code",
   "execution_count": 6,
   "metadata": {},
   "outputs": [],
   "source": [
    "# 动作：站立\n",
    "AGC.runActionGroup('stand')"
   ]
  },
  {
   "cell_type": "markdown",
   "metadata": {},
   "source": [
    "## 挑战一：查看机器人所有的内置动作\n",
    "\n",
    "难度：★\n",
    "\n",
    "> 提示：在通义灵码的对话框中输入:`@workspace 查看AGC支持的所有动作`"
   ]
  },
  {
   "cell_type": "markdown",
   "metadata": {},
   "source": [
    "## 挑战二：完成任一以下动作\n",
    "\n",
    "难度：★★\n",
    "\n",
    "仰卧起坐、庆祝、原地踏步、左勾拳、右勾拳、永春拳、左侧踢、右侧踢\n",
    "\n",
    "> 提示：只需仿照上面的代码，替换函数参数中的动作名称即可\n",
    "\n",
    "> 或者在通义灵码的对话框中输入：`@workspace 完成仰卧起坐动作`"
   ]
  },
  {
   "cell_type": "code",
   "execution_count": 4,
   "metadata": {},
   "outputs": [],
   "source": [
    "# 动作：踢右脚\n",
    "AGC.runActionGroup('right_shot_fast')"
   ]
  },
  {
   "cell_type": "markdown",
   "metadata": {},
   "source": [
    "## 挑战三：依次完成一整套动作\n",
    "\n",
    "难度：★★★\n",
    "\n",
    "> 在通义灵码的对话框中输入：`@workspace 用AGC完成以下动作：挥手，扭腰两次，鞠躬三次，踢左脚，踢右脚`"
   ]
  },
  {
   "cell_type": "markdown",
   "metadata": {},
   "source": [
    "## 通义灵码其它神仙玩法：瞬间理解祖传代码、精准空降指定模块、快速生成注释文档、单元测试优化建议\n",
    "\n",
    "> 在通义灵码的对话框中输入:`@workspace 这些代码是做啥的`\n",
    "\n",
    "> 在通义灵码的对话框中输入:`@workspace 帮我分析整个代码库的架构`\n",
    "\n",
    "> 在通义灵码的对话框中输入:`@workspace Functions目录的代码实现哪些功能`\n",
    "\n",
    "> 在通义灵码的对话框中输入:`@workspace 哪些代码用到了摄像头`\n",
    "\n",
    "> 在通义灵码的对话框中输入:`@workspace 哪些代码用到了语音识别`"
   ]
  },
  {
   "cell_type": "code",
   "execution_count": null,
   "metadata": {},
   "outputs": [],
   "source": []
  }
 ],
 "metadata": {
  "kernelspec": {
   "display_name": "Python 3",
   "language": "python",
   "name": "python3"
  },
  "language_info": {
   "codemirror_mode": {
    "name": "ipython",
    "version": 3
   },
   "file_extension": ".py",
   "mimetype": "text/x-python",
   "name": "python",
   "nbconvert_exporter": "python",
   "pygments_lexer": "ipython3",
   "version": "3.11.2"
  }
 },
 "nbformat": 4,
 "nbformat_minor": 2
}
