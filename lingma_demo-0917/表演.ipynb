{
 "cells": [
  {
   "cell_type": "markdown",
   "metadata": {},
   "source": [
    "# 通义灵码展位机器人表演\n",
    "\n",
    "同济子豪兄 2024-9-17"
   ]
  },
  {
   "cell_type": "markdown",
   "metadata": {},
   "source": [
    "## WIFI\n",
    "\n",
    "名称：533\n",
    "\n",
    "密码：525331314"
   ]
  },
  {
   "cell_type": "markdown",
   "metadata": {
    "jp-MarkdownHeadingCollapsed": true
   },
   "source": [
    "## 三台机器人的IP地址\n",
    "\n",
    "### 黑机：`192.168.31.146`\n",
    "\n",
    "### 绿机：`192.168.31.141`\n",
    "\n",
    "### 蓝机：`192.168.31.154`"
   ]
  },
  {
   "cell_type": "markdown",
   "metadata": {},
   "source": [
    "## 唱跳RAP\n",
    "\n",
    "```shell\n",
    "python /home/pi/TonyPi/Extend/sensor_course/sensor_development/little_apple.py\n",
    "```"
   ]
  },
  {
   "cell_type": "markdown",
   "metadata": {
    "jp-MarkdownHeadingCollapsed": true
   },
   "source": [
    "## 注意\n",
    "\n",
    "以下命令需在VNC Viewer远程桌面命令行中执行以下代码，按`Ctrl`+`C`退出程序"
   ]
  },
  {
   "cell_type": "markdown",
   "metadata": {},
   "source": [
    "## 踢足球\n",
    "\n",
    "```shell\n",
    "python TonyPi/Functions/KickBall.py\n",
    "```\n",
    "\n",
    "### 踢指定颜色的足球\n",
    "\n",
    "```shell\n",
    "python /home/pi/TonyPi/Functions/KickBall_only_once.py 'red'\n",
    "```"
   ]
  },
  {
   "cell_type": "markdown",
   "metadata": {},
   "source": [
    "## 田径运动：巡线、跨栏、上下台阶\n",
    "\n",
    "```shell\n",
    "python TonyPi/Extend/athletics_course/athletics_perform.py\n",
    "```\n",
    "\n",
    "### > 黑机\n",
    "- 无窗显示\n",
    "```shell\n",
    "python /home/pi/TonyPi/Extend/athletics_course/athletics_perform_only.py\n",
    "```\n",
    "- 有窗显示\n",
    "```shell\n",
    "python /home/pi/TonyPi/Extend/athletics_course/athletics_perform.py\n",
    "```"
   ]
  },
  {
   "cell_type": "markdown",
   "metadata": {},
   "source": [
    "## 搬运海绵方块\n",
    "\n",
    "```shell\n",
    "python TonyPi/Functions/Transport.py\n",
    "```\n",
    "\n",
    "### > 搬运指定颜色的海绵方块\n",
    "```shell\n",
    "python /home/pi/TonyPi/Functions/Transport_only.py \"['red','green','blue']\"\n",
    "```"
   ]
  },
  {
   "cell_type": "markdown",
   "metadata": {},
   "source": []
  }
 ],
 "metadata": {
  "kernelspec": {
   "display_name": "Python 3 (ipykernel)",
   "language": "python",
   "name": "python3"
  },
  "language_info": {
   "codemirror_mode": {
    "name": "ipython",
    "version": 3
   },
   "file_extension": ".py",
   "mimetype": "text/x-python",
   "name": "python",
   "nbconvert_exporter": "python",
   "pygments_lexer": "ipython3",
   "version": "3.12.3"
  }
 },
 "nbformat": 4,
 "nbformat_minor": 4
}
