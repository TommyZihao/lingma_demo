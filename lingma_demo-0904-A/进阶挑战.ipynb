{
 "cells": [
  {
   "cell_type": "markdown",
   "metadata": {},
   "source": [
    "# 通义灵码玩转TonyPi人形机器人（进阶挑战）\n",
    "\n",
    "同济子豪兄 2024-9-4"
   ]
  },
  {
   "cell_type": "markdown",
   "metadata": {},
   "source": [
    "## 介绍\n",
    "\n",
    "你将和AI编程搭子“通义灵码”一起写代码，飞速看懂“祖传代码”\n",
    "\n",
    "让你面前的这台人形机器人，理解复杂指令、完成高难动作、玩唱跳RAP、搬繁重货物、跨栏巡线避障"
   ]
  },
  {
   "cell_type": "markdown",
   "metadata": {},
   "source": [
    "## 挑战一：《小苹果》唱跳RAP\n",
    "\n",
    "难度：★★★\n",
    "\n",
    "> 提示：在通义灵码的对话框中输入：`@workspace 找到播放歌曲小苹果并跳舞的代码`\n",
    "\n",
    "找到对应的Python脚本并运行"
   ]
  },
  {
   "cell_type": "markdown",
   "metadata": {},
   "source": [
    "## 挑战二：田径运动（巡线+跨栏+上台阶+下台阶）\n",
    "\n",
    "难度：★★★\n",
    "\n",
    "> 在通义灵码的对话框中输入：`@workspace 找到跨栏巡线避障的代码`\n",
    "\n",
    "在`VNC Viewer远程桌面`命令行中执行这个代码，按`Ctrl`+`C`退出程序\n",
    "\n",
    "需完整顺着黑线从头走到尾，跨过障碍物栏杆和台阶"
   ]
  },
  {
   "cell_type": "markdown",
   "metadata": {},
   "source": [
    "## 挑战三：搬运海绵块\n",
    "\n",
    "难度：★★★\n",
    "\n",
    "> 在通义灵码的对话框中输入：`@workspace 找到搬运海绵块的代码`\n",
    "\n",
    "在VNC Viewer远程桌面命令行中执行这个代码，按`Ctrl`+`C`退出程序"
   ]
  },
  {
   "cell_type": "code",
   "execution_count": null,
   "metadata": {},
   "outputs": [],
   "source": []
  }
 ],
 "metadata": {
  "kernelspec": {
   "display_name": "Python 3",
   "language": "python",
   "name": "python3"
  },
  "language_info": {
   "codemirror_mode": {
    "name": "ipython",
    "version": 3
   },
   "file_extension": ".py",
   "mimetype": "text/x-python",
   "name": "python",
   "nbconvert_exporter": "python",
   "pygments_lexer": "ipython3",
   "version": "3.11.2"
  }
 },
 "nbformat": 4,
 "nbformat_minor": 2
}
