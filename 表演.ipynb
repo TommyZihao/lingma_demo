{
 "cells": [
  {
   "cell_type": "markdown",
   "metadata": {},
   "source": [
    "# 表演\n",
    "\n",
    "同济子豪兄 2024-9-7"
   ]
  },
  {
   "cell_type": "markdown",
   "metadata": {},
   "source": [
    "## 注意\n",
    "\n",
    "需在VNC Viewer远程桌面命令行中执行以下代码，按`Ctrl`+`C`退出程序"
   ]
  },
  {
   "cell_type": "markdown",
   "metadata": {},
   "source": [
    "## 踢足球\n",
    "\n",
    "```shell\n",
    "cd TonyPi/Functions\n",
    "\n",
    "python KickBall.py\n",
    "```"
   ]
  },
  {
   "cell_type": "markdown",
   "metadata": {},
   "source": [
    "## 田径运动：巡线、跨栏、上下台阶\n",
    "\n",
    "```shell\n",
    "cd TonyPi/Extend/athletics_course\n",
    "\n",
    "python athletics_perform.py\n",
    "```"
   ]
  },
  {
   "cell_type": "markdown",
   "metadata": {},
   "source": [
    "## 搬运海绵方块\n",
    "\n",
    "```shell\n",
    "cd TonyPi/Functions\n",
    "\n",
    "python Transport.py\n",
    "```"
   ]
  },
  {
   "cell_type": "markdown",
   "metadata": {},
   "source": [
    "## 唱跳RAP\n",
    "\n",
    "```shell\n",
    "python Extend/sensor_development/little_apple.py\n",
    "```"
   ]
  },
  {
   "cell_type": "markdown",
   "metadata": {},
   "source": []
  }
 ],
 "metadata": {
  "kernelspec": {
   "display_name": "Python 3",
   "language": "python",
   "name": "python3"
  },
  "language_info": {
   "codemirror_mode": {
    "name": "ipython",
    "version": 3
   },
   "file_extension": ".py",
   "mimetype": "text/x-python",
   "name": "python",
   "nbconvert_exporter": "python",
   "pygments_lexer": "ipython3",
   "version": "3.11.2"
  }
 },
 "nbformat": 4,
 "nbformat_minor": 2
}
