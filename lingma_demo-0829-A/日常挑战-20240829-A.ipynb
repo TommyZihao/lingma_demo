{
 "cells": [
  {
   "cell_type": "markdown",
   "metadata": {},
   "source": [
    "# 通义灵码五分钟玩转TonyPi人形机器人\n",
    "\n",
    "同济子豪兄 2024-8-28"
   ]
  },
  {
   "cell_type": "markdown",
   "metadata": {},
   "source": [
    "## 介绍\n",
    "\n",
    "你将和AI编程搭子“通义灵码”一起写代码，飞速看懂“祖传代码”，挑战五大高能关卡。\n",
    "\n",
    "让你面前的这台人形机器人完成高难动作、理解复杂指令、踢花样足球、搬繁重货物。"
   ]
  },
  {
   "cell_type": "markdown",
   "metadata": {},
   "source": [
    "## 小试牛刀：让机器人动起来"
   ]
  },
  {
   "cell_type": "code",
   "execution_count": 1,
   "metadata": {},
   "outputs": [],
   "source": [
    "# 导入工具包\n",
    "import hiwonder.ActionGroupControl as AGC"
   ]
  },
  {
   "cell_type": "code",
   "execution_count": 2,
   "metadata": {},
   "outputs": [],
   "source": [
    "# 动作：鞠躬\n",
    "AGC.runActionGroup('bow')"
   ]
  },
  {
   "cell_type": "code",
   "execution_count": 3,
   "metadata": {},
   "outputs": [],
   "source": [
    "# 动作：扭腰\n",
    "AGC.runActionGroup('twist')"
   ]
  },
  {
   "cell_type": "code",
   "execution_count": 4,
   "metadata": {},
   "outputs": [],
   "source": [
    "# 动作：挥手\n",
    "AGC.runActionGroup('wave')"
   ]
  },
  {
   "cell_type": "code",
   "execution_count": 5,
   "metadata": {},
   "outputs": [],
   "source": [
    "# 动作：下蹲\n",
    "AGC.runActionGroup('squat')"
   ]
  },
  {
   "cell_type": "code",
   "execution_count": 6,
   "metadata": {},
   "outputs": [],
   "source": [
    "# 动作：站立\n",
    "AGC.runActionGroup('stand')"
   ]
  },
  {
   "cell_type": "markdown",
   "metadata": {},
   "source": [
    "## 挑战一：查看机器人所有的内置动作\n",
    "\n",
    "难度：★\n",
    "\n",
    "> 提示：在通义灵码的对话框中输入:`@workspace 在哪里查看AGC所有支持的动作`"
   ]
  },
  {
   "cell_type": "markdown",
   "metadata": {},
   "source": [
    "## 挑战二：完成任一以下动作\n",
    "\n",
    "难度：★\n",
    "\n",
    "仰卧起坐、庆祝、原地踏步、左勾拳、右勾拳、永春拳、左侧踢、右侧踢\n",
    "\n",
    "> 提示：只需仿照上面的代码，替换函数参数中的动作名称即可\n",
    "\n",
    "> 或者在通义灵码的对话框中输入：`@workspace 完成仰卧起坐动作`"
   ]
  },
  {
   "cell_type": "code",
   "execution_count": 7,
   "metadata": {},
   "outputs": [],
   "source": [
    "# 动作：仰卧起坐\n",
    "AGC.runActionGroup('sit_ups')"
   ]
  },
  {
   "cell_type": "code",
   "execution_count": 8,
   "metadata": {},
   "outputs": [],
   "source": [
    "# 动作：踢右脚\n",
    "AGC.runActionGroup('right_shot_fast')"
   ]
  },
  {
   "cell_type": "markdown",
   "metadata": {},
   "source": [
    "## 挑战三：完成一整套“丝滑小连招”\n",
    "\n",
    "难度：★★\n",
    "\n",
    "> 在通义灵码的对话框中输入：`@workspace 用AGC完成以下动作：挥手，鞠躬，踢左脚，踢右脚`"
   ]
  },
  {
   "cell_type": "markdown",
   "metadata": {},
   "source": [
    "## 挑战四：跌倒时，自己站起来\n",
    "\n",
    "难度：★★\n",
    "\n",
    "> 需提前让工作人员把机器人放倒"
   ]
  },
  {
   "cell_type": "code",
   "execution_count": 35,
   "metadata": {},
   "outputs": [],
   "source": [
    "# 动作：前倾跌倒站起\n",
    "AGC.runActionGroup('stand_up_front')"
   ]
  },
  {
   "cell_type": "code",
   "execution_count": null,
   "metadata": {},
   "outputs": [],
   "source": [
    "# 动作：后倾跌倒站起\n",
    "AGC.runActionGroup('stand_up_back')"
   ]
  },
  {
   "cell_type": "markdown",
   "metadata": {},
   "source": [
    "## 挑战五：田径运动（巡线+跨栏+上台阶+下台阶）\n",
    "\n",
    "难度：★★★\n",
    "\n",
    "> 在通义灵码的对话框中输入：`@workspace 找到田径运动表演的代码`\n",
    "\n",
    "在VNC Viewer远程桌面命令行中执行这个代码，按`Ctrl`+`C`退出程序"
   ]
  },
  {
   "cell_type": "markdown",
   "metadata": {},
   "source": [
    "## 挑战六：搬运海绵块\n",
    "\n",
    "难度：★★★\n",
    "\n",
    "> 在通义灵码的对话框中输入：`@workspace 找到搬运海绵块的代码`\n",
    "\n",
    "在VNC Viewer远程桌面命令行中执行这个代码，按`Ctrl`+`C`退出程序"
   ]
  },
  {
   "cell_type": "markdown",
   "metadata": {},
   "source": [
    "## 挑战七：唱调RAP\n",
    "\n",
    "难度：★★★\n",
    "\n",
    "> 在通义灵码的对话框中输入：`@workspace 找到唱歌跳舞的代码`\n",
    "\n",
    "在VNC Viewer远程桌面命令行中执行这个代码，按`Ctrl`+`C`退出程序"
   ]
  },
  {
   "cell_type": "markdown",
   "metadata": {},
   "source": [
    "## 挑战八：踢足球\n",
    "\n",
    "难度：★★★\n",
    "\n",
    "- 第一步：运行默认踢球代码\n",
    "\n",
    "> 在通义灵码的对话框中输入：`@workspace 找到踢球的代码`\n",
    "\n",
    "在VNC Viewer远程桌面命令行中执行这个代码，按`Ctrl`+`C`退出程序"
   ]
  },
  {
   "cell_type": "markdown",
   "metadata": {},
   "source": [
    "- 第二步：踢蓝色球\n",
    "\n",
    "> 在通义灵码的对话框中输入：`@workspace 如何修改踢不同颜色的球`\n",
    "\n",
    "修改并运行`KickBall_codebase_challenge.py`文件，让机器人踢蓝色球\n",
    "\n",
    "在VNC Viewer远程桌面命令行中执行这个代码，按`Ctrl`+`C`退出程序\n"
   ]
  },
  {
   "cell_type": "markdown",
   "metadata": {},
   "source": [
    "## 通义灵码其它神仙玩法：瞬间读懂祖传代码\n",
    "\n",
    "> 在通义灵码的对话框中输入:`@workspace 总结整个代码库的架构`\n",
    "\n",
    "> 在通义灵码的对话框中输入:`@workspace Functions目录的代码实现哪些功能`"
   ]
  },
  {
   "cell_type": "markdown",
   "metadata": {},
   "source": []
  }
 ],
 "metadata": {
  "kernelspec": {
   "display_name": "Python 3",
   "language": "python",
   "name": "python3"
  },
  "language_info": {
   "codemirror_mode": {
    "name": "ipython",
    "version": 3
   },
   "file_extension": ".py",
   "mimetype": "text/x-python",
   "name": "python",
   "nbconvert_exporter": "python",
   "pygments_lexer": "ipython3",
   "version": "3.11.2"
  }
 },
 "nbformat": 4,
 "nbformat_minor": 2
}
